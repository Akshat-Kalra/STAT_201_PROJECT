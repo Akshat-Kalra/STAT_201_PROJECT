{
 "cells": [
  {
   "cell_type": "markdown",
   "id": "b325063c-5426-4836-bb27-3a0ff3c6e693",
   "metadata": {},
   "source": [
    "# <center>Statistical Inference on Whether Ticket Classes affect Survival on the RMS Titanic\n",
    "#### **Authors:** Divesh Goyal, Luke Huang, Akshat Kalra, Eunbee Ham\n",
    "#### **Group:** 49"
   ]
  },
  {
   "cell_type": "markdown",
   "id": "44ae8523-e0d9-4a94-9eb5-12493426ebac",
   "metadata": {},
   "source": [
    "## 1. Introduction"
   ]
  },
  {
   "cell_type": "markdown",
   "id": "f8728cab-155f-4604-ba77-eedb5fe47940",
   "metadata": {},
   "source": [
    "On April 15, 1912, the supposedly unsinkable British passenger liner, RMS Titanic, tragically struck an iceberg and sank to the bottom of the Atlantic Ocean with approximately 2200 passengers on board. Out of the ~2200 passengers, just over 1500 lost their lives to the disaster (Titanic Inquiry Project, 1998-2017). The passengers include people from a variety of socio-economic backgrounds and as such, resided in different ticket classes on the ship (Hall, 1986). This begs the following question:\n",
    "\n",
    "#### <center>Does a passenger's ticket class on the Titanic determine whether they survived or not?"
   ]
  },
  {
   "cell_type": "markdown",
   "id": "4316025a-8592-4fb6-adda-f262129390ce",
   "metadata": {},
   "source": [
    "To analyze this question, we will use the difference in proportion of passengers residing in the upper class who survived vs passengers in the lower class who survived. The scale parameter will be standard error of proportions.\n",
    "- We chose difference in proportions since the survival and ticket class variables are discrete which means that there is a fixed amount of possibilities for the variable. Thus, we can compare the amount of passengers for each discrete value with the total number of passengers.\n",
    "- We chose standard error as we are using proportions and would like to calculate how much our statistic will differ from the population proportion."
   ]
  },
  {
   "cell_type": "markdown",
   "id": "381086a8-00b5-4bb2-a3b4-65f7c252e1cb",
   "metadata": {},
   "source": [
    "<img src=\"https://www.rmg.co.uk/sites/default/files/styles/full_width_2600/public/Atlantic%20liner%20%27Titanic%27%20%28Br%2C%201912%29%20sinking%2C%20bow%20first%2C%201912%2C%20with%20eight%20full%20lifeboats%20nearby%20and%20an%20iceberg%20in%20the%20distance_banner.jpg?itok=AvBc7Sno\" width=\"700\"/>"
   ]
  },
  {
   "cell_type": "markdown",
   "id": "4f9b5214-3391-428d-9570-095dae1dd6a9",
   "metadata": {
    "tags": []
   },
   "source": [
    "The dataset that will be used is the [Titanic - Machine Learning from Disaster](https://www.kaggle.com/competitions/titanic/data) data set from Kaggle. This dataset contains information on 891 passengers aboard the Titanic and the following information for each passenger:\n",
    "- *`Survival`* (Whether the passenger survived or not)\n",
    "- *`Pclass`* (Ticket class being one of first, second, or third class)\n",
    "- *`Sex`*\n",
    "- *`Age`* (Age in years)\n",
    "- *`sibsp`* (Number of siblings/spouses on the Titanic)\n",
    "- *`parch`* (Number of parents/children on the Titanic)\n",
    "- *`Ticket`* (Ticket number)\n",
    "- *`Fare`* (Passenger fare in Britain's pre-decimalised currency format (£))\n",
    "- *`Cabin`* (Cabin number)\n",
    "- *`Embarked`* (Port where the passenger boarded the Titanic)"
   ]
  },
  {
   "cell_type": "markdown",
   "id": "ba004d77-e48e-48ca-8948-a493fadfe882",
   "metadata": {},
   "source": [
    "***<center>We chose to analyze the ticket class factor on survival as this would produce an interesting insight on how socioeconomic status affects survival and whether one could essentially pay more for a safer journey (Hall, 1986).***"
   ]
  },
  {
   "cell_type": "markdown",
   "id": "4e5fb3e3-a93b-4528-ab18-7890b16afe2d",
   "metadata": {},
   "source": [
    "## 2a. Methods and Results"
   ]
  },
  {
   "cell_type": "markdown",
   "id": "6e14c1e8-8df4-4a02-9535-135e455bd30b",
   "metadata": {},
   "source": [
    "### 2.1. Loading necessary libraries"
   ]
  },
  {
   "cell_type": "code",
   "execution_count": 1,
   "id": "0f2a4175-34c0-46c1-b8d3-149372d392a1",
   "metadata": {
    "tags": []
   },
   "outputs": [
    {
     "name": "stderr",
     "output_type": "stream",
     "text": [
      "── \u001b[1mAttaching core tidyverse packages\u001b[22m ──────────────────────── tidyverse 2.0.0 ──\n",
      "\u001b[32m✔\u001b[39m \u001b[34mdplyr    \u001b[39m 1.1.1     \u001b[32m✔\u001b[39m \u001b[34mreadr    \u001b[39m 2.1.4\n",
      "\u001b[32m✔\u001b[39m \u001b[34mforcats  \u001b[39m 1.0.0     \u001b[32m✔\u001b[39m \u001b[34mstringr  \u001b[39m 1.5.0\n",
      "\u001b[32m✔\u001b[39m \u001b[34mggplot2  \u001b[39m 3.4.1     \u001b[32m✔\u001b[39m \u001b[34mtibble   \u001b[39m 3.2.1\n",
      "\u001b[32m✔\u001b[39m \u001b[34mlubridate\u001b[39m 1.9.2     \u001b[32m✔\u001b[39m \u001b[34mtidyr    \u001b[39m 1.3.0\n",
      "\u001b[32m✔\u001b[39m \u001b[34mpurrr    \u001b[39m 1.0.1     \n",
      "── \u001b[1mConflicts\u001b[22m ────────────────────────────────────────── tidyverse_conflicts() ──\n",
      "\u001b[31m✖\u001b[39m \u001b[34mdplyr\u001b[39m::\u001b[32mfilter()\u001b[39m masks \u001b[34mstats\u001b[39m::filter()\n",
      "\u001b[31m✖\u001b[39m \u001b[34mdplyr\u001b[39m::\u001b[32mlag()\u001b[39m    masks \u001b[34mstats\u001b[39m::lag()\n",
      "\u001b[36mℹ\u001b[39m Use the conflicted package (\u001b[3m\u001b[34m<http://conflicted.r-lib.org/>\u001b[39m\u001b[23m) to force all conflicts to become errors\n",
      "\n",
      "Attaching package: 'gridExtra'\n",
      "\n",
      "\n",
      "The following object is masked from 'package:dplyr':\n",
      "\n",
      "    combine\n",
      "\n",
      "\n",
      "\n",
      "Attaching package: 'cowplot'\n",
      "\n",
      "\n",
      "The following object is masked from 'package:lubridate':\n",
      "\n",
      "    stamp\n",
      "\n",
      "\n"
     ]
    }
   ],
   "source": [
    "library(tidyverse)\n",
    "library(repr)\n",
    "library(digest)\n",
    "library(infer)\n",
    "library(gridExtra)\n",
    "library(cowplot)\n",
    "library(dplyr)\n",
    "library(broom)\n",
    "library(knitr)\n",
    "library(grid)"
   ]
  },
  {
   "cell_type": "markdown",
   "id": "bc452079-be13-485c-82b0-596868a655ef",
   "metadata": {},
   "source": [
    "### 2.2. Getting the dataset from the web"
   ]
  },
  {
   "cell_type": "markdown",
   "id": "6aba6c71-c68f-4473-8565-7a0d79c7cda2",
   "metadata": {},
   "source": [
    "* To import the dataset, we will download it from a Github repository so that the code is reproducible and self-contained."
   ]
  },
  {
   "cell_type": "code",
   "execution_count": 2,
   "id": "6f3c1980-f7c2-4424-8300-29df893b862a",
   "metadata": {
    "tags": []
   },
   "outputs": [
    {
     "data": {
      "text/html": [
       "<table class=\"dataframe\">\n",
       "<caption>A data.frame: 6 × 12</caption>\n",
       "<thead>\n",
       "\t<tr><th></th><th scope=col>PassengerId</th><th scope=col>Survived</th><th scope=col>Pclass</th><th scope=col>Name</th><th scope=col>Sex</th><th scope=col>Age</th><th scope=col>SibSp</th><th scope=col>Parch</th><th scope=col>Ticket</th><th scope=col>Fare</th><th scope=col>Cabin</th><th scope=col>Embarked</th></tr>\n",
       "\t<tr><th></th><th scope=col>&lt;int&gt;</th><th scope=col>&lt;int&gt;</th><th scope=col>&lt;int&gt;</th><th scope=col>&lt;chr&gt;</th><th scope=col>&lt;chr&gt;</th><th scope=col>&lt;dbl&gt;</th><th scope=col>&lt;int&gt;</th><th scope=col>&lt;int&gt;</th><th scope=col>&lt;chr&gt;</th><th scope=col>&lt;dbl&gt;</th><th scope=col>&lt;chr&gt;</th><th scope=col>&lt;chr&gt;</th></tr>\n",
       "</thead>\n",
       "<tbody>\n",
       "\t<tr><th scope=row>1</th><td>1</td><td>0</td><td>3</td><td>Braund, Mr. Owen Harris                            </td><td>male  </td><td>22</td><td>1</td><td>0</td><td>A/5 21171       </td><td> 7.2500</td><td>    </td><td>S</td></tr>\n",
       "\t<tr><th scope=row>2</th><td>2</td><td>1</td><td>1</td><td>Cumings, Mrs. John Bradley (Florence Briggs Thayer)</td><td>female</td><td>38</td><td>1</td><td>0</td><td>PC 17599        </td><td>71.2833</td><td>C85 </td><td>C</td></tr>\n",
       "\t<tr><th scope=row>3</th><td>3</td><td>1</td><td>3</td><td>Heikkinen, Miss. Laina                             </td><td>female</td><td>26</td><td>0</td><td>0</td><td>STON/O2. 3101282</td><td> 7.9250</td><td>    </td><td>S</td></tr>\n",
       "\t<tr><th scope=row>4</th><td>4</td><td>1</td><td>1</td><td>Futrelle, Mrs. Jacques Heath (Lily May Peel)       </td><td>female</td><td>35</td><td>1</td><td>0</td><td>113803          </td><td>53.1000</td><td>C123</td><td>S</td></tr>\n",
       "\t<tr><th scope=row>5</th><td>5</td><td>0</td><td>3</td><td>Allen, Mr. William Henry                           </td><td>male  </td><td>35</td><td>0</td><td>0</td><td>373450          </td><td> 8.0500</td><td>    </td><td>S</td></tr>\n",
       "\t<tr><th scope=row>6</th><td>6</td><td>0</td><td>3</td><td>Moran, Mr. James                                   </td><td>male  </td><td>NA</td><td>0</td><td>0</td><td>330877          </td><td> 8.4583</td><td>    </td><td>Q</td></tr>\n",
       "</tbody>\n",
       "</table>\n"
      ],
      "text/latex": [
       "A data.frame: 6 × 12\n",
       "\\begin{tabular}{r|llllllllllll}\n",
       "  & PassengerId & Survived & Pclass & Name & Sex & Age & SibSp & Parch & Ticket & Fare & Cabin & Embarked\\\\\n",
       "  & <int> & <int> & <int> & <chr> & <chr> & <dbl> & <int> & <int> & <chr> & <dbl> & <chr> & <chr>\\\\\n",
       "\\hline\n",
       "\t1 & 1 & 0 & 3 & Braund, Mr. Owen Harris                             & male   & 22 & 1 & 0 & A/5 21171        &  7.2500 &      & S\\\\\n",
       "\t2 & 2 & 1 & 1 & Cumings, Mrs. John Bradley (Florence Briggs Thayer) & female & 38 & 1 & 0 & PC 17599         & 71.2833 & C85  & C\\\\\n",
       "\t3 & 3 & 1 & 3 & Heikkinen, Miss. Laina                              & female & 26 & 0 & 0 & STON/O2. 3101282 &  7.9250 &      & S\\\\\n",
       "\t4 & 4 & 1 & 1 & Futrelle, Mrs. Jacques Heath (Lily May Peel)        & female & 35 & 1 & 0 & 113803           & 53.1000 & C123 & S\\\\\n",
       "\t5 & 5 & 0 & 3 & Allen, Mr. William Henry                            & male   & 35 & 0 & 0 & 373450           &  8.0500 &      & S\\\\\n",
       "\t6 & 6 & 0 & 3 & Moran, Mr. James                                    & male   & NA & 0 & 0 & 330877           &  8.4583 &      & Q\\\\\n",
       "\\end{tabular}\n"
      ],
      "text/markdown": [
       "\n",
       "A data.frame: 6 × 12\n",
       "\n",
       "| <!--/--> | PassengerId &lt;int&gt; | Survived &lt;int&gt; | Pclass &lt;int&gt; | Name &lt;chr&gt; | Sex &lt;chr&gt; | Age &lt;dbl&gt; | SibSp &lt;int&gt; | Parch &lt;int&gt; | Ticket &lt;chr&gt; | Fare &lt;dbl&gt; | Cabin &lt;chr&gt; | Embarked &lt;chr&gt; |\n",
       "|---|---|---|---|---|---|---|---|---|---|---|---|---|\n",
       "| 1 | 1 | 0 | 3 | Braund, Mr. Owen Harris                             | male   | 22 | 1 | 0 | A/5 21171        |  7.2500 | <!----> | S |\n",
       "| 2 | 2 | 1 | 1 | Cumings, Mrs. John Bradley (Florence Briggs Thayer) | female | 38 | 1 | 0 | PC 17599         | 71.2833 | C85  | C |\n",
       "| 3 | 3 | 1 | 3 | Heikkinen, Miss. Laina                              | female | 26 | 0 | 0 | STON/O2. 3101282 |  7.9250 | <!----> | S |\n",
       "| 4 | 4 | 1 | 1 | Futrelle, Mrs. Jacques Heath (Lily May Peel)        | female | 35 | 1 | 0 | 113803           | 53.1000 | C123 | S |\n",
       "| 5 | 5 | 0 | 3 | Allen, Mr. William Henry                            | male   | 35 | 0 | 0 | 373450           |  8.0500 | <!----> | S |\n",
       "| 6 | 6 | 0 | 3 | Moran, Mr. James                                    | male   | NA | 0 | 0 | 330877           |  8.4583 | <!----> | Q |\n",
       "\n"
      ],
      "text/plain": [
       "  PassengerId Survived Pclass\n",
       "1 1           0        3     \n",
       "2 2           1        1     \n",
       "3 3           1        3     \n",
       "4 4           1        1     \n",
       "5 5           0        3     \n",
       "6 6           0        3     \n",
       "  Name                                                Sex    Age SibSp Parch\n",
       "1 Braund, Mr. Owen Harris                             male   22  1     0    \n",
       "2 Cumings, Mrs. John Bradley (Florence Briggs Thayer) female 38  1     0    \n",
       "3 Heikkinen, Miss. Laina                              female 26  0     0    \n",
       "4 Futrelle, Mrs. Jacques Heath (Lily May Peel)        female 35  1     0    \n",
       "5 Allen, Mr. William Henry                            male   35  0     0    \n",
       "6 Moran, Mr. James                                    male   NA  0     0    \n",
       "  Ticket           Fare    Cabin Embarked\n",
       "1 A/5 21171         7.2500       S       \n",
       "2 PC 17599         71.2833 C85   C       \n",
       "3 STON/O2. 3101282  7.9250       S       \n",
       "4 113803           53.1000 C123  S       \n",
       "5 373450            8.0500       S       \n",
       "6 330877            8.4583       Q       "
      ]
     },
     "metadata": {},
     "output_type": "display_data"
    },
    {
     "data": {
      "text/html": [
       "<style>\n",
       ".list-inline {list-style: none; margin:0; padding: 0}\n",
       ".list-inline>li {display: inline-block}\n",
       ".list-inline>li:not(:last-child)::after {content: \"\\00b7\"; padding: 0 .5ex}\n",
       "</style>\n",
       "<ol class=list-inline><li>'PassengerId'</li><li>'Survived'</li><li>'Pclass'</li><li>'Name'</li><li>'Sex'</li><li>'Age'</li><li>'SibSp'</li><li>'Parch'</li><li>'Ticket'</li><li>'Fare'</li><li>'Cabin'</li><li>'Embarked'</li></ol>\n"
      ],
      "text/latex": [
       "\\begin{enumerate*}\n",
       "\\item 'PassengerId'\n",
       "\\item 'Survived'\n",
       "\\item 'Pclass'\n",
       "\\item 'Name'\n",
       "\\item 'Sex'\n",
       "\\item 'Age'\n",
       "\\item 'SibSp'\n",
       "\\item 'Parch'\n",
       "\\item 'Ticket'\n",
       "\\item 'Fare'\n",
       "\\item 'Cabin'\n",
       "\\item 'Embarked'\n",
       "\\end{enumerate*}\n"
      ],
      "text/markdown": [
       "1. 'PassengerId'\n",
       "2. 'Survived'\n",
       "3. 'Pclass'\n",
       "4. 'Name'\n",
       "5. 'Sex'\n",
       "6. 'Age'\n",
       "7. 'SibSp'\n",
       "8. 'Parch'\n",
       "9. 'Ticket'\n",
       "10. 'Fare'\n",
       "11. 'Cabin'\n",
       "12. 'Embarked'\n",
       "\n",
       "\n"
      ],
      "text/plain": [
       " [1] \"PassengerId\" \"Survived\"    \"Pclass\"      \"Name\"        \"Sex\"        \n",
       " [6] \"Age\"         \"SibSp\"       \"Parch\"       \"Ticket\"      \"Fare\"       \n",
       "[11] \"Cabin\"       \"Embarked\"   "
      ]
     },
     "metadata": {},
     "output_type": "display_data"
    }
   ],
   "source": [
    "# Store the raw Github url of the dataset\n",
    "url <- \"https://raw.githubusercontent.com/lhuang20/Titanic-Dataset/main/titanic.csv\"\n",
    "\n",
    "# Download titanic.csv from the url\n",
    "download.file(url, \"titanic.csv\")\n",
    "\n",
    "# Store the dataset into variable\n",
    "titanic <- read.csv(\"titanic.csv\")\n",
    "\n",
    "# Display the first few rows of the dataset\n",
    "head(titanic)\n",
    "\n",
    "# Display the names of each column in the dataset\n",
    "colnames(titanic)"
   ]
  },
  {
   "cell_type": "markdown",
   "id": "f98128ff-0dc1-4083-84e6-be5c7a70b24c",
   "metadata": {},
   "source": [
    "<center>Table 1: Titanic Dataset"
   ]
  },
  {
   "cell_type": "markdown",
   "id": "d2116d2c-6120-4951-8cae-1ff5a68bb82b",
   "metadata": {},
   "source": [
    "### 2.3. Selecting columns for analysis"
   ]
  },
  {
   "cell_type": "markdown",
   "id": "b148f493-e23a-4490-9b44-2082ce3ef93b",
   "metadata": {},
   "source": [
    "* To conduct our analysis on the data set, we will select the columns that we are focusing on: *`Survived`*, *`Fare`*, and *`Pclass`*."
   ]
  },
  {
   "cell_type": "code",
   "execution_count": 3,
   "id": "1d3bfa54-dae5-4616-bbf3-f189be0b77a3",
   "metadata": {
    "tags": []
   },
   "outputs": [
    {
     "data": {
      "text/html": [
       "<table class=\"dataframe\">\n",
       "<caption>A data.frame: 6 × 3</caption>\n",
       "<thead>\n",
       "\t<tr><th></th><th scope=col>Survived</th><th scope=col>Fare</th><th scope=col>Pclass</th></tr>\n",
       "\t<tr><th></th><th scope=col>&lt;int&gt;</th><th scope=col>&lt;dbl&gt;</th><th scope=col>&lt;int&gt;</th></tr>\n",
       "</thead>\n",
       "<tbody>\n",
       "\t<tr><th scope=row>1</th><td>0</td><td> 7.2500</td><td>3</td></tr>\n",
       "\t<tr><th scope=row>2</th><td>1</td><td>71.2833</td><td>1</td></tr>\n",
       "\t<tr><th scope=row>3</th><td>1</td><td> 7.9250</td><td>3</td></tr>\n",
       "\t<tr><th scope=row>4</th><td>1</td><td>53.1000</td><td>1</td></tr>\n",
       "\t<tr><th scope=row>5</th><td>0</td><td> 8.0500</td><td>3</td></tr>\n",
       "\t<tr><th scope=row>6</th><td>0</td><td> 8.4583</td><td>3</td></tr>\n",
       "</tbody>\n",
       "</table>\n"
      ],
      "text/latex": [
       "A data.frame: 6 × 3\n",
       "\\begin{tabular}{r|lll}\n",
       "  & Survived & Fare & Pclass\\\\\n",
       "  & <int> & <dbl> & <int>\\\\\n",
       "\\hline\n",
       "\t1 & 0 &  7.2500 & 3\\\\\n",
       "\t2 & 1 & 71.2833 & 1\\\\\n",
       "\t3 & 1 &  7.9250 & 3\\\\\n",
       "\t4 & 1 & 53.1000 & 1\\\\\n",
       "\t5 & 0 &  8.0500 & 3\\\\\n",
       "\t6 & 0 &  8.4583 & 3\\\\\n",
       "\\end{tabular}\n"
      ],
      "text/markdown": [
       "\n",
       "A data.frame: 6 × 3\n",
       "\n",
       "| <!--/--> | Survived &lt;int&gt; | Fare &lt;dbl&gt; | Pclass &lt;int&gt; |\n",
       "|---|---|---|---|\n",
       "| 1 | 0 |  7.2500 | 3 |\n",
       "| 2 | 1 | 71.2833 | 1 |\n",
       "| 3 | 1 |  7.9250 | 3 |\n",
       "| 4 | 1 | 53.1000 | 1 |\n",
       "| 5 | 0 |  8.0500 | 3 |\n",
       "| 6 | 0 |  8.4583 | 3 |\n",
       "\n"
      ],
      "text/plain": [
       "  Survived Fare    Pclass\n",
       "1 0         7.2500 3     \n",
       "2 1        71.2833 1     \n",
       "3 1         7.9250 3     \n",
       "4 1        53.1000 1     \n",
       "5 0         8.0500 3     \n",
       "6 0         8.4583 3     "
      ]
     },
     "metadata": {},
     "output_type": "display_data"
    }
   ],
   "source": [
    "titanic_selected <- titanic |> \n",
    "                    select(Survived, Fare, Pclass) # select columns of interest\n",
    "\n",
    "head(titanic_selected)"
   ]
  },
  {
   "cell_type": "markdown",
   "id": "d1ff0366-aef8-4027-87ef-0a78adb97ba2",
   "metadata": {},
   "source": [
    "<center>Table 2: Titanic Dataset with Columns of Interest"
   ]
  },
  {
   "cell_type": "markdown",
   "id": "871c90ef-1078-4c25-851f-0dae15a327e7",
   "metadata": {},
   "source": [
    "### 2.4. Exploratory data analysis"
   ]
  },
  {
   "cell_type": "markdown",
   "id": "ccf63bc3-12c2-488a-a0e0-51d3fdff6fca",
   "metadata": {},
   "source": [
    "* We will conduct our analysis by grouping passengers into 2 different classes based on the ticket fare they paid. But first, let's explore our data for any abnormalities/outliers."
   ]
  },
  {
   "cell_type": "code",
   "execution_count": 4,
   "id": "007c9f2e",
   "metadata": {},
   "outputs": [
    {
     "data": {
      "text/html": [
       "<table class=\"dataframe\">\n",
       "<caption>A tibble: 2 × 2</caption>\n",
       "<thead>\n",
       "\t<tr><th scope=col>Survived</th><th scope=col>Passengers</th></tr>\n",
       "\t<tr><th scope=col>&lt;int&gt;</th><th scope=col>&lt;int&gt;</th></tr>\n",
       "</thead>\n",
       "<tbody>\n",
       "\t<tr><td>0</td><td>549</td></tr>\n",
       "\t<tr><td>1</td><td>342</td></tr>\n",
       "</tbody>\n",
       "</table>\n"
      ],
      "text/latex": [
       "A tibble: 2 × 2\n",
       "\\begin{tabular}{ll}\n",
       " Survived & Passengers\\\\\n",
       " <int> & <int>\\\\\n",
       "\\hline\n",
       "\t 0 & 549\\\\\n",
       "\t 1 & 342\\\\\n",
       "\\end{tabular}\n"
      ],
      "text/markdown": [
       "\n",
       "A tibble: 2 × 2\n",
       "\n",
       "| Survived &lt;int&gt; | Passengers &lt;int&gt; |\n",
       "|---|---|\n",
       "| 0 | 549 |\n",
       "| 1 | 342 |\n",
       "\n"
      ],
      "text/plain": [
       "  Survived Passengers\n",
       "1 0        549       \n",
       "2 1        342       "
      ]
     },
     "metadata": {},
     "output_type": "display_data"
    }
   ],
   "source": [
    "# Checking Survived column for values other than 0 and 1\n",
    "titanic_survived <- titanic_selected |>\n",
    "                    group_by(Survived) |>\n",
    "                    summarise(Passengers = n()) # total number of passengers for each Survived group\n",
    "\n",
    "titanic_survived"
   ]
  },
  {
   "cell_type": "markdown",
   "id": "34579f7f",
   "metadata": {},
   "source": [
    "<center>Table 3: Number of Passengers in Each Survival Group"
   ]
  },
  {
   "cell_type": "code",
   "execution_count": 5,
   "id": "df92031f",
   "metadata": {},
   "outputs": [
    {
     "data": {
      "text/html": [
       "<table class=\"dataframe\">\n",
       "<caption>A tibble: 3 × 2</caption>\n",
       "<thead>\n",
       "\t<tr><th scope=col>Pclass</th><th scope=col>Passengers</th></tr>\n",
       "\t<tr><th scope=col>&lt;int&gt;</th><th scope=col>&lt;int&gt;</th></tr>\n",
       "</thead>\n",
       "<tbody>\n",
       "\t<tr><td>1</td><td>216</td></tr>\n",
       "\t<tr><td>2</td><td>184</td></tr>\n",
       "\t<tr><td>3</td><td>491</td></tr>\n",
       "</tbody>\n",
       "</table>\n"
      ],
      "text/latex": [
       "A tibble: 3 × 2\n",
       "\\begin{tabular}{ll}\n",
       " Pclass & Passengers\\\\\n",
       " <int> & <int>\\\\\n",
       "\\hline\n",
       "\t 1 & 216\\\\\n",
       "\t 2 & 184\\\\\n",
       "\t 3 & 491\\\\\n",
       "\\end{tabular}\n"
      ],
      "text/markdown": [
       "\n",
       "A tibble: 3 × 2\n",
       "\n",
       "| Pclass &lt;int&gt; | Passengers &lt;int&gt; |\n",
       "|---|---|\n",
       "| 1 | 216 |\n",
       "| 2 | 184 |\n",
       "| 3 | 491 |\n",
       "\n"
      ],
      "text/plain": [
       "  Pclass Passengers\n",
       "1 1      216       \n",
       "2 2      184       \n",
       "3 3      491       "
      ]
     },
     "metadata": {},
     "output_type": "display_data"
    }
   ],
   "source": [
    "# Checking Pclass column for values other than 1, 2 or 3\n",
    "titanic_Pclass <- titanic_selected |>\n",
    "                  group_by(Pclass) |>\n",
    "                  summarise(Passengers = n()) # total number of passengers for each Pclass group\n",
    "\n",
    "titanic_Pclass"
   ]
  },
  {
   "cell_type": "markdown",
   "id": "517b8499",
   "metadata": {},
   "source": [
    "<center>Table 4: Number of Passengers in Each Pclass Group (1, 2, 3)"
   ]
  },
  {
   "cell_type": "markdown",
   "id": "71418611",
   "metadata": {},
   "source": [
    "* Tables 3 and 4 show no abnormalities in the *`Survived`* and *`Pclass`* columns. Let's now check the *`Fare`* column by producing a distribution of fares to observe for outliers."
   ]
  },
  {
   "cell_type": "code",
   "execution_count": 37,
   "id": "5b1e047f",
   "metadata": {},
   "outputs": [
    {
     "data": {
      "image/png": "[encoded data removed]",
      "text/plain": [
       "plot without title"
      ]
     },
     "metadata": {
      "image/png": {
       "height": 420,
       "width": 720
      }
     },
     "output_type": "display_data"
    }
   ],
   "source": [
    "# Set size of plot\n",
    "options(repr.plot.width=12, repr.plot.height=7)\n",
    "\n",
    "# Histogram plot of fare paid by all 891 passengers in Titanic dataset\n",
    "# Vertical blue line represents mean ticket fare\n",
    "titanic_fare_dist <- titanic_selected |>\n",
    "                     ggplot() +\n",
    "                     geom_histogram(aes(x = Fare), binwidth = 10) +\n",
    "                     geom_vline(aes(xintercept = mean(Fare)), col = 'blue', linewidth = 1) + # draws a vertical line indicating position of mean fare amount\n",
    "                     ggtitle(\"Fig 1: Distribution of fares paid by all 891 passengers in Titanic dataset\") +\n",
    "                     xlab(\"Price of Ticket\") +\n",
    "                     ylab(\"Number of people\") +\n",
    "                     theme(plot.title = element_text(size=24)) + # make plot title a bit larger\n",
    "                     theme(plot.title = element_text(hjust = 0.5)) + # Centers the title of the plot\n",
    "                     theme(axis.text=element_text(size=14),\n",
    "                           axis.title=element_text(size=18),\n",
    "                           plot.title = element_text(size=20))\n",
    "titanic_fare_dist"
   ]
  },
  {
   "cell_type": "markdown",
   "id": "b98cbeeb",
   "metadata": {},
   "source": [
    "* Figure 1 shows some passengers paying a fare of just over £500. This may have been the Cardeza family who had some of the most expensive tickets on board (Encyclopedia Titanica, 2017) We also see that the distribution is skewed right with the mean ticket price less than £40. However, there were also some passengers who paid a fare of 0. Let's look at how many there were:"
   ]
  },
  {
   "cell_type": "code",
   "execution_count": 7,
   "id": "8b2b7b26-5a05-4d07-aa44-140649eb968d",
   "metadata": {
    "tags": []
   },
   "outputs": [
    {
     "data": {
      "text/html": [
       "<table class=\"dataframe\">\n",
       "<caption>A tibble: 3 × 2</caption>\n",
       "<thead>\n",
       "\t<tr><th scope=col>Pclass</th><th scope=col>Passengers</th></tr>\n",
       "\t<tr><th scope=col>&lt;int&gt;</th><th scope=col>&lt;int&gt;</th></tr>\n",
       "</thead>\n",
       "<tbody>\n",
       "\t<tr><td>1</td><td>5</td></tr>\n",
       "\t<tr><td>2</td><td>6</td></tr>\n",
       "\t<tr><td>3</td><td>4</td></tr>\n",
       "</tbody>\n",
       "</table>\n"
      ],
      "text/latex": [
       "A tibble: 3 × 2\n",
       "\\begin{tabular}{ll}\n",
       " Pclass & Passengers\\\\\n",
       " <int> & <int>\\\\\n",
       "\\hline\n",
       "\t 1 & 5\\\\\n",
       "\t 2 & 6\\\\\n",
       "\t 3 & 4\\\\\n",
       "\\end{tabular}\n"
      ],
      "text/markdown": [
       "\n",
       "A tibble: 3 × 2\n",
       "\n",
       "| Pclass &lt;int&gt; | Passengers &lt;int&gt; |\n",
       "|---|---|\n",
       "| 1 | 5 |\n",
       "| 2 | 6 |\n",
       "| 3 | 4 |\n",
       "\n"
      ],
      "text/plain": [
       "  Pclass Passengers\n",
       "1 1      5         \n",
       "2 2      6         \n",
       "3 3      4         "
      ]
     },
     "metadata": {},
     "output_type": "display_data"
    }
   ],
   "source": [
    "# Checking Fare column for passengers who paid a fare of 0\n",
    "titanic_fare <- titanic_selected |> \n",
    "                filter(Fare == 0) |>\n",
    "                group_by(Pclass) |>\n",
    "                summarise(Passengers = n())\n",
    "\n",
    "titanic_fare"
   ]
  },
  {
   "cell_type": "markdown",
   "id": "904fadcf-ee29-4006-b683-693d545bdd1d",
   "metadata": {},
   "source": [
    "<center>Table 5: Number of Passengers Who Paid a Fare of 0"
   ]
  },
  {
   "cell_type": "markdown",
   "id": "a54e559a-b57b-49a5-bce0-2395bcf6ef4c",
   "metadata": {},
   "source": [
    "* Table 5 shows 15 (5+6+4) passengers in the dataset who paid a fare of 0.\n",
    "* These passengers are roughly distributed between the 3 ticket class under Pclass (1, 2, 3). Including fares of 0 in our definition of ticket class would create some inaccuracies in our analysis.\n",
    "* When we look deeper into each of these passengers using the Titanic crew list here: https://www.encyclopedia-titanica.org/titanic-crew-list/, we can see that they were employees of `\"White Star Line\"` or `\"Harland and Wolff\"` which were companies that operated and built the Titanic respectively.\n",
    "* As these passengers were part of the crew, they have no indication of socioeconomic class on the Titanic. Thus, we will filter out these passengers here:"
   ]
  },
  {
   "cell_type": "code",
   "execution_count": 8,
   "id": "06a9a7fd-68af-42b8-8138-59a7f4ecb244",
   "metadata": {
    "tags": []
   },
   "outputs": [
    {
     "data": {
      "text/html": [
       "<table class=\"dataframe\">\n",
       "<caption>A data.frame: 6 × 3</caption>\n",
       "<thead>\n",
       "\t<tr><th></th><th scope=col>Survived</th><th scope=col>Fare</th><th scope=col>Pclass</th></tr>\n",
       "\t<tr><th></th><th scope=col>&lt;int&gt;</th><th scope=col>&lt;dbl&gt;</th><th scope=col>&lt;int&gt;</th></tr>\n",
       "</thead>\n",
       "<tbody>\n",
       "\t<tr><th scope=row>871</th><td>0</td><td>29.125</td><td>3</td></tr>\n",
       "\t<tr><th scope=row>872</th><td>0</td><td>13.000</td><td>2</td></tr>\n",
       "\t<tr><th scope=row>873</th><td>1</td><td>30.000</td><td>1</td></tr>\n",
       "\t<tr><th scope=row>874</th><td>0</td><td>23.450</td><td>3</td></tr>\n",
       "\t<tr><th scope=row>875</th><td>1</td><td>30.000</td><td>1</td></tr>\n",
       "\t<tr><th scope=row>876</th><td>0</td><td> 7.750</td><td>3</td></tr>\n",
       "</tbody>\n",
       "</table>\n"
      ],
      "text/latex": [
       "A data.frame: 6 × 3\n",
       "\\begin{tabular}{r|lll}\n",
       "  & Survived & Fare & Pclass\\\\\n",
       "  & <int> & <dbl> & <int>\\\\\n",
       "\\hline\n",
       "\t871 & 0 & 29.125 & 3\\\\\n",
       "\t872 & 0 & 13.000 & 2\\\\\n",
       "\t873 & 1 & 30.000 & 1\\\\\n",
       "\t874 & 0 & 23.450 & 3\\\\\n",
       "\t875 & 1 & 30.000 & 1\\\\\n",
       "\t876 & 0 &  7.750 & 3\\\\\n",
       "\\end{tabular}\n"
      ],
      "text/markdown": [
       "\n",
       "A data.frame: 6 × 3\n",
       "\n",
       "| <!--/--> | Survived &lt;int&gt; | Fare &lt;dbl&gt; | Pclass &lt;int&gt; |\n",
       "|---|---|---|---|\n",
       "| 871 | 0 | 29.125 | 3 |\n",
       "| 872 | 0 | 13.000 | 2 |\n",
       "| 873 | 1 | 30.000 | 1 |\n",
       "| 874 | 0 | 23.450 | 3 |\n",
       "| 875 | 1 | 30.000 | 1 |\n",
       "| 876 | 0 |  7.750 | 3 |\n",
       "\n"
      ],
      "text/plain": [
       "    Survived Fare   Pclass\n",
       "871 0        29.125 3     \n",
       "872 0        13.000 2     \n",
       "873 1        30.000 1     \n",
       "874 0        23.450 3     \n",
       "875 1        30.000 1     \n",
       "876 0         7.750 3     "
      ]
     },
     "metadata": {},
     "output_type": "display_data"
    }
   ],
   "source": [
    "titanic_filtered <- titanic_selected |> \n",
    "                    filter(Fare != 0)\n",
    "\n",
    "tail(titanic_filtered)"
   ]
  },
  {
   "cell_type": "markdown",
   "id": "ec9f08fa-92c7-45a6-aa3f-647badf35dab",
   "metadata": {},
   "source": [
    "<center>Table 6: Filtered Titanic Dataset"
   ]
  },
  {
   "cell_type": "markdown",
   "id": "9ed8b22a-5050-47a4-80ab-7b7830c0618e",
   "metadata": {},
   "source": [
    "### 2.5. Defining upper and lower ticket classes"
   ]
  },
  {
   "cell_type": "markdown",
   "id": "954c6dd5-5116-4ea9-96ff-4ba93af50652",
   "metadata": {},
   "source": [
    "* In the Titanic dataset, passengers were split into 3 classes (*`Pclass`*: 1, 2, 3). However, we wish to conduct our hypothesis test simply based on whether someone was an \"upper\" class or \"lower\" class traveller. To do this, we will split the passengers into two classes using the fare paid by each passenger. First we must obtain the mean fare from each *`Pclass`*:"
   ]
  },
  {
   "cell_type": "code",
   "execution_count": 9,
   "id": "958f6e3f-3917-4017-9dc0-a10f456bd79a",
   "metadata": {
    "tags": []
   },
   "outputs": [
    {
     "data": {
      "text/html": [
       "<table class=\"dataframe\">\n",
       "<caption>A tibble: 3 × 2</caption>\n",
       "<thead>\n",
       "\t<tr><th scope=col>Pclass</th><th scope=col>mean</th></tr>\n",
       "\t<tr><th scope=col>&lt;int&gt;</th><th scope=col>&lt;dbl&gt;</th></tr>\n",
       "</thead>\n",
       "<tbody>\n",
       "\t<tr><td>1</td><td>86.14887</td></tr>\n",
       "\t<tr><td>2</td><td>21.35866</td></tr>\n",
       "\t<tr><td>3</td><td>13.78787</td></tr>\n",
       "</tbody>\n",
       "</table>\n"
      ],
      "text/latex": [
       "A tibble: 3 × 2\n",
       "\\begin{tabular}{ll}\n",
       " Pclass & mean\\\\\n",
       " <int> & <dbl>\\\\\n",
       "\\hline\n",
       "\t 1 & 86.14887\\\\\n",
       "\t 2 & 21.35866\\\\\n",
       "\t 3 & 13.78787\\\\\n",
       "\\end{tabular}\n"
      ],
      "text/markdown": [
       "\n",
       "A tibble: 3 × 2\n",
       "\n",
       "| Pclass &lt;int&gt; | mean &lt;dbl&gt; |\n",
       "|---|---|\n",
       "| 1 | 86.14887 |\n",
       "| 2 | 21.35866 |\n",
       "| 3 | 13.78787 |\n",
       "\n"
      ],
      "text/plain": [
       "  Pclass mean    \n",
       "1 1      86.14887\n",
       "2 2      21.35866\n",
       "3 3      13.78787"
      ]
     },
     "metadata": {},
     "output_type": "display_data"
    }
   ],
   "source": [
    "titanic_mean <- titanic_filtered |> \n",
    "                group_by(Pclass) |> \n",
    "                summarize(mean = mean(Fare)) # mean fare paid by each Pclass group\n",
    "\n",
    "titanic_mean"
   ]
  },
  {
   "cell_type": "markdown",
   "id": "a6fe4477-8199-47ab-87e2-fe8c317e3cfa",
   "metadata": {},
   "source": [
    "<center>Table 7: Mean Fare Paid by Passengers of each Pclass"
   ]
  },
  {
   "cell_type": "markdown",
   "id": "5dffc37a-c17a-4503-a987-f75072bbb41f",
   "metadata": {},
   "source": [
    "* Table 7 shows that the fare paid by someone travelling in first class is significantly higher than the fare paid by someone travelling in *second* or *third* class.\n",
    "\n",
    "* We will plot the histograms for the fare paid by each of the classes to visualize how combining the different classes should go."
   ]
  },
  {
   "cell_type": "code",
   "execution_count": 35,
   "id": "575bfe07-d216-43e5-b72e-d26fd2924611",
   "metadata": {
    "tags": []
   },
   "outputs": [
    {
     "name": "stderr",
     "output_type": "stream",
     "text": [
      "\u001b[1m\u001b[22m`stat_bin()` using `bins = 30`. Pick better value with `binwidth`.\n",
      "\u001b[1m\u001b[22m`stat_bin()` using `bins = 30`. Pick better value with `binwidth`.\n"
     ]
    },
    {
     "data": {
      "image/png": "[encoded data removed]",
      "text/plain": [
       "plot without title"
      ]
     },
     "metadata": {
      "image/png": {
       "height": 540,
       "width": 840
      }
     },
     "output_type": "display_data"
    }
   ],
   "source": [
    "# Set size of plots\n",
    "options(repr.plot.width=14, repr.plot.height=9)\n",
    "\n",
    "# Histogram plot of fare paid by passengers of First Class (Pclass 1)\n",
    "titanic_class1 <- titanic_filtered |>\n",
    "                  filter(Pclass == 1) |>\n",
    "                  ggplot() +\n",
    "                  geom_histogram(aes(x = Fare), binwidth = 10) +\n",
    "                  ggtitle(\"Fig 2: First Class Passengers\") +\n",
    "                  xlab(\"Price of Ticket\") +\n",
    "                  ylab(\"Number of People\") +\n",
    "                  theme(plot.title = element_text(size=22)) + # make plot title a bit larger\n",
    "                  theme(plot.title = element_text(hjust = 0.5)) + # Centers the title of the plot\n",
    "                  theme(axis.text=element_text(size=14),\n",
    "                        axis.title=element_text(size=18),\n",
    "                        plot.title = element_text(size=20))\n",
    "\n",
    "# Histogram plot of fare paid by passengers of Second Class (Pclass 2)\n",
    "titanic_class2 <- titanic_filtered |>\n",
    "                  filter(Pclass == 2) |>\n",
    "                  ggplot() +\n",
    "                  geom_histogram(aes(x = Fare)) +\n",
    "                  ggtitle(\"Fig 3: Second Class Passengers\") +\n",
    "                  xlab(\"Price of Ticket\") +\n",
    "                  ylab(\"Number of People\") +\n",
    "                  theme(plot.title = element_text(size=22)) + # make plot title a bit larger\n",
    "                  theme(plot.title = element_text(hjust = 0.5)) + # Centers the title of the plot\n",
    "                  theme(axis.text=element_text(size=14),\n",
    "                        axis.title=element_text(size=18),\n",
    "                        plot.title = element_text(size=20))\n",
    "\n",
    "# Histogram plot of fare paid by passengers of Third Class (Pclass 3)\n",
    "titanic_class3 <- titanic_filtered |>\n",
    "                  filter(Pclass == 3) |>\n",
    "                  ggplot() +\n",
    "                  geom_histogram(aes(x = Fare)) +\n",
    "                  ggtitle(\"Fig 4: Third Class Passengers\") +\n",
    "                  xlab(\"Price of Ticket\") +\n",
    "                  ylab(\"Number of people\") +\n",
    "                  theme(plot.title = element_text(size=22)) + # make plot title a bit larger\n",
    "                  theme(plot.title = element_text(hjust = 0.5)) + # Centers the title of the plot\n",
    "                  theme(axis.text=element_text(size=14),\n",
    "                        axis.title=element_text(size=18),\n",
    "                        plot.title = element_text(size=20))\n",
    "\n",
    "#Grouping all three plots together\n",
    "grid.arrange(titanic_class1,\n",
    "             titanic_class2,\n",
    "             titanic_class3,\n",
    "             nrow = 2,\n",
    "             ncol = 2,\n",
    "             top = textGrob(\"Fare Paid by Each Pclass\",\n",
    "                            gp=gpar(fontsize=26)))"
   ]
  },
  {
   "cell_type": "markdown",
   "id": "455966fc-bca6-4dea-8d7e-217e05c80b5d",
   "metadata": {},
   "source": [
    "* Figures 2, 3 and 4 show that the Fare paid by passengers in the *second* and *third* class have a similar spread, with many passengers paying between £5 and £40.\n",
    "\n",
    "* We will hence take the mean value of tickets between the *second* and *third* class and use it to split passengers into upper and lower class."
   ]
  },
  {
   "cell_type": "code",
   "execution_count": 11,
   "id": "b1e6b45b-e847-44d8-b1ad-b7c03b7e350d",
   "metadata": {
    "tags": []
   },
   "outputs": [
    {
     "data": {
      "text/html": [
       "<table class=\"dataframe\">\n",
       "<caption>A data.frame: 1 × 1</caption>\n",
       "<thead>\n",
       "\t<tr><th scope=col>mean</th></tr>\n",
       "\t<tr><th scope=col>&lt;dbl&gt;</th></tr>\n",
       "</thead>\n",
       "<tbody>\n",
       "\t<tr><td>15.81434</td></tr>\n",
       "</tbody>\n",
       "</table>\n"
      ],
      "text/latex": [
       "A data.frame: 1 × 1\n",
       "\\begin{tabular}{l}\n",
       " mean\\\\\n",
       " <dbl>\\\\\n",
       "\\hline\n",
       "\t 15.81434\\\\\n",
       "\\end{tabular}\n"
      ],
      "text/markdown": [
       "\n",
       "A data.frame: 1 × 1\n",
       "\n",
       "| mean &lt;dbl&gt; |\n",
       "|---|\n",
       "| 15.81434 |\n",
       "\n"
      ],
      "text/plain": [
       "  mean    \n",
       "1 15.81434"
      ]
     },
     "metadata": {},
     "output_type": "display_data"
    }
   ],
   "source": [
    "lower_mean <- titanic_filtered |> \n",
    "              filter(Pclass == 2 | Pclass == 3) |> \n",
    "              summarize(mean = mean(Fare)) |>\n",
    "              select(mean)\n",
    "\n",
    "lower_mean"
   ]
  },
  {
   "cell_type": "markdown",
   "id": "af2e4558",
   "metadata": {},
   "source": [
    "<center>Table 8: Mean Ticket Price Paid by Second and Third Class Combined"
   ]
  },
  {
   "cell_type": "markdown",
   "id": "226da5c5-daff-4997-9959-3781f1889072",
   "metadata": {},
   "source": [
    "* From Table 8, we see the mean ticket price paid by *second* and *third* class combined is about £15.81.\n",
    "\n",
    "* We will use this value to split the upper and lower ticket classes. Here we combine the people who paid under the mean into lower class and the people who paid more than the mean into upper class. We will also change the data in *`Survived`* so that *`1`* = *`Alive`* and *`0`* = *`Dead`* in order to calculate difference in proportions in **3.1**"
   ]
  },
  {
   "cell_type": "code",
   "execution_count": 12,
   "id": "45167728-bd2c-47d7-bb2c-9cac069da91a",
   "metadata": {
    "tags": []
   },
   "outputs": [
    {
     "data": {
      "text/html": [
       "<table class=\"dataframe\">\n",
       "<caption>A data.frame: 6 × 2</caption>\n",
       "<thead>\n",
       "\t<tr><th></th><th scope=col>Survived</th><th scope=col>Pclass</th></tr>\n",
       "\t<tr><th></th><th scope=col>&lt;fct&gt;</th><th scope=col>&lt;fct&gt;</th></tr>\n",
       "</thead>\n",
       "<tbody>\n",
       "\t<tr><th scope=row>1</th><td>Dead </td><td>Lower</td></tr>\n",
       "\t<tr><th scope=row>2</th><td>Alive</td><td>Upper</td></tr>\n",
       "\t<tr><th scope=row>3</th><td>Alive</td><td>Lower</td></tr>\n",
       "\t<tr><th scope=row>4</th><td>Alive</td><td>Upper</td></tr>\n",
       "\t<tr><th scope=row>5</th><td>Dead </td><td>Lower</td></tr>\n",
       "\t<tr><th scope=row>6</th><td>Dead </td><td>Lower</td></tr>\n",
       "</tbody>\n",
       "</table>\n"
      ],
      "text/latex": [
       "A data.frame: 6 × 2\n",
       "\\begin{tabular}{r|ll}\n",
       "  & Survived & Pclass\\\\\n",
       "  & <fct> & <fct>\\\\\n",
       "\\hline\n",
       "\t1 & Dead  & Lower\\\\\n",
       "\t2 & Alive & Upper\\\\\n",
       "\t3 & Alive & Lower\\\\\n",
       "\t4 & Alive & Upper\\\\\n",
       "\t5 & Dead  & Lower\\\\\n",
       "\t6 & Dead  & Lower\\\\\n",
       "\\end{tabular}\n"
      ],
      "text/markdown": [
       "\n",
       "A data.frame: 6 × 2\n",
       "\n",
       "| <!--/--> | Survived &lt;fct&gt; | Pclass &lt;fct&gt; |\n",
       "|---|---|---|\n",
       "| 1 | Dead  | Lower |\n",
       "| 2 | Alive | Upper |\n",
       "| 3 | Alive | Lower |\n",
       "| 4 | Alive | Upper |\n",
       "| 5 | Dead  | Lower |\n",
       "| 6 | Dead  | Lower |\n",
       "\n"
      ],
      "text/plain": [
       "  Survived Pclass\n",
       "1 Dead     Lower \n",
       "2 Alive    Upper \n",
       "3 Alive    Lower \n",
       "4 Alive    Upper \n",
       "5 Dead     Lower \n",
       "6 Dead     Lower "
      ]
     },
     "metadata": {},
     "output_type": "display_data"
    }
   ],
   "source": [
    "titanic_tidy <- titanic_filtered |> \n",
    "                mutate(filter = Fare > pull(lower_mean)) |> # since lower_mean is stored in a table, we must pull the raw number using pull()\n",
    "                mutate(Pclass = fct_recode(as_factor(filter), Upper='TRUE', Lower='FALSE')) |> # combining passengers who paid Fare>mean of the lower classes into \"Upper\" and the rest into \"Lower\"\n",
    "                mutate(Survived = fct_recode(as_factor(Survived), Alive='1', Dead = '0')) |>  # change the data in the Survived column from integers to discrete labels: \"Dead\" and \"Alive\"\n",
    "                select(Survived, Pclass)\n",
    "\n",
    "head(titanic_tidy)"
   ]
  },
  {
   "cell_type": "markdown",
   "id": "387f9bc1-fd70-4982-beec-fba3185d2f09",
   "metadata": {},
   "source": [
    "<center>Table 9: Tidied Titanic Dataset with *Upper* and *Lower* Pclasses"
   ]
  },
  {
   "cell_type": "markdown",
   "id": "b899535e",
   "metadata": {},
   "source": [
    "* We can also see that the number of passengers in each class (*upper* and *lower*) are roughly equal here:"
   ]
  },
  {
   "cell_type": "code",
   "execution_count": 13,
   "id": "1f5353a7",
   "metadata": {},
   "outputs": [
    {
     "data": {
      "text/html": [
       "<table class=\"dataframe\">\n",
       "<caption>A tibble: 2 × 2</caption>\n",
       "<thead>\n",
       "\t<tr><th scope=col>Pclass</th><th scope=col>Passengers</th></tr>\n",
       "\t<tr><th scope=col>&lt;fct&gt;</th><th scope=col>&lt;int&gt;</th></tr>\n",
       "</thead>\n",
       "<tbody>\n",
       "\t<tr><td>Lower</td><td>463</td></tr>\n",
       "\t<tr><td>Upper</td><td>413</td></tr>\n",
       "</tbody>\n",
       "</table>\n"
      ],
      "text/latex": [
       "A tibble: 2 × 2\n",
       "\\begin{tabular}{ll}\n",
       " Pclass & Passengers\\\\\n",
       " <fct> & <int>\\\\\n",
       "\\hline\n",
       "\t Lower & 463\\\\\n",
       "\t Upper & 413\\\\\n",
       "\\end{tabular}\n"
      ],
      "text/markdown": [
       "\n",
       "A tibble: 2 × 2\n",
       "\n",
       "| Pclass &lt;fct&gt; | Passengers &lt;int&gt; |\n",
       "|---|---|\n",
       "| Lower | 463 |\n",
       "| Upper | 413 |\n",
       "\n"
      ],
      "text/plain": [
       "  Pclass Passengers\n",
       "1 Lower  463       \n",
       "2 Upper  413       "
      ]
     },
     "metadata": {},
     "output_type": "display_data"
    }
   ],
   "source": [
    "titanic_tidy_n <- titanic_tidy |>\n",
    "                  group_by(Pclass) |>\n",
    "                  summarise(Passengers = n())\n",
    "\n",
    "titanic_tidy_n"
   ]
  },
  {
   "cell_type": "markdown",
   "id": "c7128607",
   "metadata": {},
   "source": [
    "<center>Table 10: Number of Passengers in Each Pclass Group (Upper and Lower)"
   ]
  },
  {
   "cell_type": "markdown",
   "id": "a648abe3-9189-4b92-92d0-86728f114ae3",
   "metadata": {},
   "source": [
    "### 2.6. Visualizing raw proportion data from dataset"
   ]
  },
  {
   "cell_type": "markdown",
   "id": "ac31aa9d-b317-4c3a-a71a-9794667091ad",
   "metadata": {},
   "source": [
    "* We will now compute proportions for all passengers who survived from the dataset and plot this data"
   ]
  },
  {
   "cell_type": "code",
   "execution_count": 14,
   "id": "d74f5e11-a2e7-4120-b7dd-4a87a4f03895",
   "metadata": {
    "tags": []
   },
   "outputs": [],
   "source": [
    "# Count the number of passengers in upper and lower ticket classes\n",
    "n_class <- titanic_tidy |> \n",
    "           group_by(Pclass) |>\n",
    "           tally()\n",
    "# n_class\n",
    "\n",
    "# Count the number of passengers in upper and lower ticket classes who survived\n",
    "n_class_survived <- titanic_tidy |> \n",
    "                    group_by(Pclass, Survived) |> \n",
    "                    tally() |>\n",
    "                    filter(Survived == \"Alive\") # filter for survivors\n",
    "# n_class_survived\n",
    "\n",
    "# Calculate the proportion of passengers who survived in upper and lower ticket classes\n",
    "prop_class <- merge(x = n_class_survived, y = n_class, by = \"Pclass\") |>\n",
    "              mutate(prop = (n.x/n.y)) |>\n",
    "              select(Pclass, prop) # select class and proportion columns\n",
    "# prop_class"
   ]
  },
  {
   "cell_type": "markdown",
   "id": "22d71fe4-a918-4a75-849e-18cd2556fc59",
   "metadata": {},
   "source": [
    "<caption><center>Table 7: Proportion of survived passengers by PClass</center></caption>\n",
    "\n",
    "|Pclass |     prop|\n",
    "|:------|--------:|\n",
    "|Lower  | 32.38381|\n",
    "|Upper  | 59.80861|\n",
    "\n"
   ]
  },
  {
   "cell_type": "code",
   "execution_count": 41,
   "id": "ba97814e-3fce-40da-8f42-8f301cc464d6",
   "metadata": {
    "tags": []
   },
   "outputs": [
    {
     "data": {
      "image/png": "[encoded data removed]",
      "text/plain": [
       "plot without title"
      ]
     },
     "metadata": {
      "image/png": {
       "height": 540,
       "width": 540
      }
     },
     "output_type": "display_data"
    }
   ],
   "source": [
    "# Set size of plot\n",
    "options(repr.plot.width=9, repr.plot.height=9)\n",
    "\n",
    "# Create the bar graph for survival between ticket classes\n",
    "prop_bar <- prop_class |>\n",
    "            ggplot(aes(x = Pclass, y = prop, fill = Pclass)) +\n",
    "            geom_col() +\n",
    "            geom_text(aes(label = round(prop, 2)), vjust=1.6, color = \"black\", size=6.5) + # adds text above each bar showing proportion values rounded to 2 decimal places\n",
    "            ggtitle(\"Fig 5: Proportion of Survival by Ticket Class\") +\n",
    "            labs(x = \"Ticket Class\", y = \"Proportion Survived\") +\n",
    "            scale_fill_manual(values = c(\"Upper\" = \"#00BFC4\", \"Lower\" = \"#F8766D\")) + # Manually choose colors for each bar\n",
    "            theme(legend.position = \"none\") + # Removes legend that comes with scale_fill_manual\n",
    "            theme(plot.title = element_text(hjust = 0.5)) + # Centers the title of the plot\n",
    "            theme(axis.text=element_text(size=14),\n",
    "                  axis.title=element_text(size=18),\n",
    "                  plot.title = element_text(size=20))  +\n",
    "            theme(plot.margin = unit(c(0.5, 0.5, 0.5, 0.5), \"cm\"))\n",
    "\n",
    "prop_bar"
   ]
  },
  {
   "cell_type": "markdown",
   "id": "b3f095dc-41f2-4631-8424-943ad84a8cb6",
   "metadata": {},
   "source": [
    "* #### *Figure 5 shows a noticable difference in survival between the upper and lower ticket classes*"
   ]
  },
  {
   "cell_type": "markdown",
   "id": "f9e2a1c5",
   "metadata": {},
   "source": [
    "## 2b. Methods: Plan"
   ]
  },
  {
   "cell_type": "markdown",
   "id": "3c381b31-87b0-4b94-a5b7-a595f30c99d3",
   "metadata": {},
   "source": [
    "### 2.7. Hypothesis testing"
   ]
  },
  {
   "cell_type": "markdown",
   "id": "5e997247-5831-480b-a735-cbd3c91aee30",
   "metadata": {},
   "source": [
    "The estimates and plots produced in **2.6** are not sufficient as there is no mention of how strong our evidence is. Thus, we will need to construct a hypothesis test to evaluate the reliability of our conclusions. We plan on supporting our data by testing the following hypothesis: \n",
    "\n",
    "\n",
    "- $H_0:{p}_u-{p}_l = 0 $ \n",
    "\n",
    "- $H_a:{p}_u-{p}_l ≠ 0 $\n",
    "    \n",
    "\n",
    "where ${p}_u$ is the proportion of survivors in upper class and ${p}_l$ is the proportion of survivors in the lower class. The null hypothesis ($H_0$) states that there is no difference in survival rates between upper and lower class while the alternative ($H_a$) states that there is a difference in survival rates between the two classes.\n",
    "\n",
    "We will be using a significance level of $\\alpha$ = 0.05 as this would give us a balance between the risk of type 1 and type 2 errors. We don't want a low $\\alpha$ value as this would increase the chance of type 2 error (false negative) which is worse in this case than a type 1 error. A type 2 error would mean that we think there is no difference when there is actually difference in survival. This type of error would cause We also do not want to choose a high $\\alpha$ value as this would decrease the amount of evidence needed to make a statistically significant conclusion."
   ]
  },
  {
   "cell_type": "markdown",
   "id": "8ddc1ec8-b617-4f57-b6cb-e9b1a5b31803",
   "metadata": {},
   "source": [
    "### 2.8. Creating the null model"
   ]
  },
  {
   "cell_type": "markdown",
   "id": "68ea0cb4-9d9a-4774-9e5d-bf3512664ece",
   "metadata": {},
   "source": [
    "* Now, we calculate the summary statistic and make a null distribution using the Infer package."
   ]
  },
  {
   "cell_type": "code",
   "execution_count": 16,
   "id": "fd47cbcd-176e-4e51-b6a2-a1c539a248f5",
   "metadata": {},
   "outputs": [
    {
     "data": {
      "text/html": [
       "<table class=\"dataframe\">\n",
       "<caption>A infer: 6 × 2</caption>\n",
       "<thead>\n",
       "\t<tr><th scope=col>replicate</th><th scope=col>stat</th></tr>\n",
       "\t<tr><th scope=col>&lt;int&gt;</th><th scope=col>&lt;dbl&gt;</th></tr>\n",
       "</thead>\n",
       "<tbody>\n",
       "\t<tr><td>1</td><td>-0.026425198</td></tr>\n",
       "\t<tr><td>2</td><td>-0.044749737</td></tr>\n",
       "\t<tr><td>3</td><td> 0.014805014</td></tr>\n",
       "\t<tr><td>4</td><td>-0.008100659</td></tr>\n",
       "\t<tr><td>5</td><td> 0.023967284</td></tr>\n",
       "\t<tr><td>6</td><td> 0.014805014</td></tr>\n",
       "</tbody>\n",
       "</table>\n"
      ],
      "text/latex": [
       "A infer: 6 × 2\n",
       "\\begin{tabular}{ll}\n",
       " replicate & stat\\\\\n",
       " <int> & <dbl>\\\\\n",
       "\\hline\n",
       "\t 1 & -0.026425198\\\\\n",
       "\t 2 & -0.044749737\\\\\n",
       "\t 3 &  0.014805014\\\\\n",
       "\t 4 & -0.008100659\\\\\n",
       "\t 5 &  0.023967284\\\\\n",
       "\t 6 &  0.014805014\\\\\n",
       "\\end{tabular}\n"
      ],
      "text/markdown": [
       "\n",
       "A infer: 6 × 2\n",
       "\n",
       "| replicate &lt;int&gt; | stat &lt;dbl&gt; |\n",
       "|---|---|\n",
       "| 1 | -0.026425198 |\n",
       "| 2 | -0.044749737 |\n",
       "| 3 |  0.014805014 |\n",
       "| 4 | -0.008100659 |\n",
       "| 5 |  0.023967284 |\n",
       "| 6 |  0.014805014 |\n",
       "\n"
      ],
      "text/plain": [
       "  replicate stat        \n",
       "1 1         -0.026425198\n",
       "2 2         -0.044749737\n",
       "3 3          0.014805014\n",
       "4 4         -0.008100659\n",
       "5 5          0.023967284\n",
       "6 6          0.014805014"
      ]
     },
     "metadata": {},
     "output_type": "display_data"
    }
   ],
   "source": [
    "# Set seed so that the data is reproducible\n",
    "set.seed(69)\n",
    "\n",
    "# Create null distribution\n",
    "null_distribution <- titanic_tidy |>\n",
    "                     specify(formula = Survived ~ Pclass, success = \"Alive\") |> \n",
    "                     hypothesize(null = \"independence\") |> # using null = \"independence\" for two sample test\n",
    "                     generate(reps = 1000, type = \"permute\") |> \n",
    "                     calculate(stat = \"diff in props\", order = c(\"Upper\", \"Lower\"))\n",
    "\n",
    "head(null_distribution)"
   ]
  },
  {
   "cell_type": "markdown",
   "id": "afc6249e",
   "metadata": {},
   "source": [
    "<center>Table 11: 1000 samples taken from the Null Model using Infer Package"
   ]
  },
  {
   "cell_type": "markdown",
   "id": "852d89fb-611f-4bf5-9dc4-35b9554c1a49",
   "metadata": {},
   "source": [
    "### 2.9. Calculating test statistic "
   ]
  },
  {
   "cell_type": "markdown",
   "id": "d85bf9ff-f7ab-4d21-8014-3d232153da51",
   "metadata": {},
   "source": [
    "* Here we calculate the observed difference in survival rates using Infer."
   ]
  },
  {
   "cell_type": "code",
   "execution_count": 17,
   "id": "bc5002b4-ad2d-4104-91ca-3868d87b11f6",
   "metadata": {},
   "outputs": [
    {
     "data": {
      "text/html": [
       "<table class=\"dataframe\">\n",
       "<caption>A infer: 1 × 1</caption>\n",
       "<thead>\n",
       "\t<tr><th scope=col>stat</th></tr>\n",
       "\t<tr><th scope=col>&lt;dbl&gt;</th></tr>\n",
       "</thead>\n",
       "<tbody>\n",
       "\t<tr><td>0.2667674</td></tr>\n",
       "</tbody>\n",
       "</table>\n"
      ],
      "text/latex": [
       "A infer: 1 × 1\n",
       "\\begin{tabular}{l}\n",
       " stat\\\\\n",
       " <dbl>\\\\\n",
       "\\hline\n",
       "\t 0.2667674\\\\\n",
       "\\end{tabular}\n"
      ],
      "text/markdown": [
       "\n",
       "A infer: 1 × 1\n",
       "\n",
       "| stat &lt;dbl&gt; |\n",
       "|---|\n",
       "| 0.2667674 |\n",
       "\n"
      ],
      "text/plain": [
       "  stat     \n",
       "1 0.2667674"
      ]
     },
     "metadata": {},
     "output_type": "display_data"
    }
   ],
   "source": [
    "obs_diff_prop <- titanic_tidy |> \n",
    "                 specify(Survived ~ Pclass, success = \"Alive\") |> \n",
    "                 calculate(stat = \"diff in props\", order = c(\"Upper\", \"Lower\"))\n",
    "\n",
    "obs_diff_prop"
   ]
  },
  {
   "cell_type": "markdown",
   "id": "67bc3f07",
   "metadata": {},
   "source": [
    "<center>Table 12: Observed Difference in Proportions"
   ]
  },
  {
   "cell_type": "markdown",
   "id": "f9d2da28-f126-4c60-83bb-baaaf2005dd8",
   "metadata": {},
   "source": [
    "### 3.0. Visualizing the p-value"
   ]
  },
  {
   "cell_type": "markdown",
   "id": "6ffe0159-9db5-44de-bc3a-eba4287bf92b",
   "metadata": {},
   "source": [
    "* The final step is to visualize the p-value on the null distribution.\n",
    "\n",
    "* This means that in a hypothesized world where there was no difference in survival rates between upper and lower class, how surprised would we be to see a difference in survival rate of $26.7$%?\n",
    "\n",
    "* We do this by first visualizing the null distribution using the `visualize()` function in Infer, and then we use the `shade_p_value` function and set `obs_stat` to `obs_diff_prop` and we will set the `direction = \"right\"` because our alternative hypothesis is \"more extreme\" than the hypothesized world."
   ]
  },
  {
   "cell_type": "code",
   "execution_count": 18,
   "id": "0d600e2b-6e90-4389-a4b0-0f2d8fae61a4",
   "metadata": {},
   "outputs": [
    {
     "name": "stderr",
     "output_type": "stream",
     "text": [
      "Warning message in min(diff(unique_loc)):\n",
      "\"no non-missing arguments to min; returning Inf\"\n"
     ]
    },
    {
     "data": {
      "image/png": "[encoded data removed]",
      "text/plain": [
       "plot without title"
      ]
     },
     "metadata": {
      "image/png": {
       "height": 480,
       "width": 600
      }
     },
     "output_type": "display_data"
    }
   ],
   "source": [
    "# Set size of plot\n",
    "options(repr.plot.width=10, repr.plot.height=8)\n",
    "\n",
    "visualize(null_distribution, bins = 10) +\n",
    "    shade_p_value(obs_stat = obs_diff_prop, direction = \"right\")"
   ]
  },
  {
   "cell_type": "markdown",
   "id": "3be47f42",
   "metadata": {},
   "source": [
    "<center>Fig 6: Simulation-Based Null Distribution"
   ]
  },
  {
   "cell_type": "markdown",
   "id": "3c762032-d31d-4287-925d-7686500560e0",
   "metadata": {},
   "source": [
    "* So, by visualizing the p-value on the null distribution, we can tell that we will rarely ever or never observe difference in survival rates of $26.7$ % in a hypothesized world of no difference in survival rates between upper and lower class.\n",
    "\n",
    "* Hence, we would be inclined to reject the null hypothesis, in statistical terminology - \"Reject $H_0$\"."
   ]
  },
  {
   "cell_type": "markdown",
   "id": "6966d7ca-4a43-4efd-b817-7094e9e42238",
   "metadata": {},
   "source": [
    "### 3.1. Computing the p-value"
   ]
  },
  {
   "cell_type": "markdown",
   "id": "5015cb8c-b8dd-41e6-a95f-92a156d89f35",
   "metadata": {},
   "source": [
    "* We can compute the p-value using `get_p_value` function with `obs_stat = obs_diff_prop` and `direction = \"right\"`."
   ]
  },
  {
   "cell_type": "code",
   "execution_count": 19,
   "id": "9eda8bde-0ef5-4077-8d5f-8983dcec7f02",
   "metadata": {},
   "outputs": [
    {
     "name": "stderr",
     "output_type": "stream",
     "text": [
      "Warning message:\n",
      "\"Please be cautious in reporting a p-value of 0. This result is an approximation based on the number of `reps` chosen in the `generate()` step. See `?get_p_value()` for more information.\"\n"
     ]
    },
    {
     "data": {
      "text/html": [
       "<table class=\"dataframe\">\n",
       "<caption>A tibble: 1 × 1</caption>\n",
       "<thead>\n",
       "\t<tr><th scope=col>p_value</th></tr>\n",
       "\t<tr><th scope=col>&lt;dbl&gt;</th></tr>\n",
       "</thead>\n",
       "<tbody>\n",
       "\t<tr><td>0</td></tr>\n",
       "</tbody>\n",
       "</table>\n"
      ],
      "text/latex": [
       "A tibble: 1 × 1\n",
       "\\begin{tabular}{l}\n",
       " p\\_value\\\\\n",
       " <dbl>\\\\\n",
       "\\hline\n",
       "\t 0\\\\\n",
       "\\end{tabular}\n"
      ],
      "text/markdown": [
       "\n",
       "A tibble: 1 × 1\n",
       "\n",
       "| p_value &lt;dbl&gt; |\n",
       "|---|\n",
       "| 0 |\n",
       "\n"
      ],
      "text/plain": [
       "  p_value\n",
       "1 0      "
      ]
     },
     "metadata": {},
     "output_type": "display_data"
    }
   ],
   "source": [
    "null_distribution |> \n",
    "  get_p_value(obs_stat = obs_diff_prop, direction = \"right\")"
   ]
  },
  {
   "cell_type": "markdown",
   "id": "38dbfd19",
   "metadata": {},
   "source": [
    "<center>Table 13: P-value calculated from Null Distribution"
   ]
  },
  {
   "cell_type": "markdown",
   "id": "171b3053-f723-4613-8ad0-f7327d70bc01",
   "metadata": {},
   "source": [
    "* This tells us that the probability of observing a difference in survival rates between upper and lower class as large as $26. 7$%, due to sampling variation in a null distribution is 0%.\n",
    "\n",
    "* Since the p-value is smaller than our pre-specified significance level i.e. $\\alpha$ = 0.05, we reject the null hypothesis $H_0:{p}_u-{p}_l = 0 $."
   ]
  },
  {
   "cell_type": "markdown",
   "id": "543ffd5a-4317-41fc-b295-2055b7c0eccd",
   "metadata": {
    "tags": []
   },
   "source": [
    "### 3.2. Bootstrap method for difference in proportions"
   ]
  },
  {
   "cell_type": "markdown",
   "id": "f5678add",
   "metadata": {},
   "source": [
    "* We will now use bootstrapping methods to test our hypothesis."
   ]
  },
  {
   "cell_type": "code",
   "execution_count": 20,
   "id": "21509353-4226-4f4e-aeb8-4e4388c18b17",
   "metadata": {},
   "outputs": [
    {
     "data": {
      "text/html": [
       "<table class=\"dataframe\">\n",
       "<caption>A infer: 6 × 2</caption>\n",
       "<thead>\n",
       "\t<tr><th scope=col>replicate</th><th scope=col>stat</th></tr>\n",
       "\t<tr><th scope=col>&lt;int&gt;</th><th scope=col>&lt;dbl&gt;</th></tr>\n",
       "</thead>\n",
       "<tbody>\n",
       "\t<tr><td>1</td><td>-0.026425198</td></tr>\n",
       "\t<tr><td>2</td><td>-0.044749737</td></tr>\n",
       "\t<tr><td>3</td><td> 0.014805014</td></tr>\n",
       "\t<tr><td>4</td><td>-0.008100659</td></tr>\n",
       "\t<tr><td>5</td><td> 0.023967284</td></tr>\n",
       "\t<tr><td>6</td><td> 0.014805014</td></tr>\n",
       "</tbody>\n",
       "</table>\n"
      ],
      "text/latex": [
       "A infer: 6 × 2\n",
       "\\begin{tabular}{ll}\n",
       " replicate & stat\\\\\n",
       " <int> & <dbl>\\\\\n",
       "\\hline\n",
       "\t 1 & -0.026425198\\\\\n",
       "\t 2 & -0.044749737\\\\\n",
       "\t 3 &  0.014805014\\\\\n",
       "\t 4 & -0.008100659\\\\\n",
       "\t 5 &  0.023967284\\\\\n",
       "\t 6 &  0.014805014\\\\\n",
       "\\end{tabular}\n"
      ],
      "text/markdown": [
       "\n",
       "A infer: 6 × 2\n",
       "\n",
       "| replicate &lt;int&gt; | stat &lt;dbl&gt; |\n",
       "|---|---|\n",
       "| 1 | -0.026425198 |\n",
       "| 2 | -0.044749737 |\n",
       "| 3 |  0.014805014 |\n",
       "| 4 | -0.008100659 |\n",
       "| 5 |  0.023967284 |\n",
       "| 6 |  0.014805014 |\n",
       "\n"
      ],
      "text/plain": [
       "  replicate stat        \n",
       "1 1         -0.026425198\n",
       "2 2         -0.044749737\n",
       "3 3          0.014805014\n",
       "4 4         -0.008100659\n",
       "5 5          0.023967284\n",
       "6 6          0.014805014"
      ]
     },
     "metadata": {},
     "output_type": "display_data"
    }
   ],
   "source": [
    "# Set seed so that the data is reproducible\n",
    "set.seed(69)\n",
    "\n",
    "# Generating samples using bootstrapping with reps = 1000\n",
    "bootstrap_distribution <- titanic_tidy |> \n",
    "                          specify(formula = Survived ~ Pclass, success = \"Alive\") |> \n",
    "                          generate(reps = 1000, type = \"bootstrap\") |> \n",
    "                          calculate(stat = \"diff in props\", order = c(\"Upper\", \"Lower\"))\n",
    "head(null_distribution)"
   ]
  },
  {
   "cell_type": "markdown",
   "id": "010fa88d",
   "metadata": {},
   "source": [
    "<center>Table 14: 1000 samples taken using Bootstrapping with the Infer Package"
   ]
  },
  {
   "cell_type": "code",
   "execution_count": 21,
   "id": "20e95859-4653-4689-aa81-37c74f4d9fd8",
   "metadata": {},
   "outputs": [
    {
     "data": {
      "text/html": [
       "<table class=\"dataframe\">\n",
       "<caption>A tibble: 1 × 2</caption>\n",
       "<thead>\n",
       "\t<tr><th scope=col>lower_ci</th><th scope=col>upper_ci</th></tr>\n",
       "\t<tr><th scope=col>&lt;dbl&gt;</th><th scope=col>&lt;dbl&gt;</th></tr>\n",
       "</thead>\n",
       "<tbody>\n",
       "\t<tr><td>0.2051506</td><td>0.3286404</td></tr>\n",
       "</tbody>\n",
       "</table>\n"
      ],
      "text/latex": [
       "A tibble: 1 × 2\n",
       "\\begin{tabular}{ll}\n",
       " lower\\_ci & upper\\_ci\\\\\n",
       " <dbl> & <dbl>\\\\\n",
       "\\hline\n",
       "\t 0.2051506 & 0.3286404\\\\\n",
       "\\end{tabular}\n"
      ],
      "text/markdown": [
       "\n",
       "A tibble: 1 × 2\n",
       "\n",
       "| lower_ci &lt;dbl&gt; | upper_ci &lt;dbl&gt; |\n",
       "|---|---|\n",
       "| 0.2051506 | 0.3286404 |\n",
       "\n"
      ],
      "text/plain": [
       "  lower_ci  upper_ci \n",
       "1 0.2051506 0.3286404"
      ]
     },
     "metadata": {},
     "output_type": "display_data"
    }
   ],
   "source": [
    "# Generate upper and lower confidence intervals with 95% confidence\n",
    "percentile_ci <- bootstrap_distribution |>\n",
    "                 get_confidence_interval(level = 0.95, type = \"percentile\")\n",
    "percentile_ci"
   ]
  },
  {
   "cell_type": "markdown",
   "id": "09b37d05",
   "metadata": {},
   "source": [
    "<center>Table 15: Upper and Lower Bounds of 95% Confidence Interval from Bootstrapping"
   ]
  },
  {
   "cell_type": "code",
   "execution_count": 22,
   "id": "f3e541ec-ca71-4add-9fc5-27544b51dbc6",
   "metadata": {},
   "outputs": [
    {
     "data": {
      "image/png": "[encoded data removed]",
      "text/plain": [
       "plot without title"
      ]
     },
     "metadata": {
      "image/png": {
       "height": 480,
       "width": 600
      }
     },
     "output_type": "display_data"
    }
   ],
   "source": [
    "# Set size of plot\n",
    "options(repr.plot.width=10, repr.plot.height=8)\n",
    "\n",
    "# Visualize 95% confidence interval on bootstrap distribution\n",
    "visualize(bootstrap_distribution) + \n",
    "  shade_confidence_interval(endpoints = percentile_ci)"
   ]
  },
  {
   "cell_type": "markdown",
   "id": "ea10c766",
   "metadata": {},
   "source": [
    "<center>Figure 7: Simulation-Based Bootstrap Distribution with 95% Confidence Interval overlaid"
   ]
  },
  {
   "cell_type": "markdown",
   "id": "ae3fe81f-5c7c-4218-b5ae-5d06007ffa73",
   "metadata": {},
   "source": [
    "* From Figure 7, we are 95% confident that the true difference in population proportions ${p}_u-{p}_l$ lies between $20.5$% and $32.9$%\n",
    "\n",
    "* This indicates that the difference between upper and lower class survival is not insignificant\n",
    "\n",
    "* We can also see that the value 0 is not included in our interval suggesting that ${p}_u$ and ${p}_l$ are totally different and since the confidence interval lies over 0, it means that the difference is in favour of the upper class."
   ]
  },
  {
   "cell_type": "markdown",
   "id": "58156cfc-6553-4bb7-8889-e83d17acf731",
   "metadata": {},
   "source": [
    "### 3.3. Standard Error Method"
   ]
  },
  {
   "cell_type": "markdown",
   "id": "42aab861-fbe1-4e98-8510-9b0dad128f0d",
   "metadata": {},
   "source": [
    "* Since, the bootstrap distribution is roughly normally shaped, we can also compare it with confidence interval generated from the standard error method.\n",
    "\n",
    "* For this, we would use the `get_confidence_interval` function and set `level = 0.95`, `type = \"se\"` and `point_estimate = obs_diff_prop`."
   ]
  },
  {
   "cell_type": "code",
   "execution_count": 23,
   "id": "f5350286-db65-4933-a107-6147c666b6c0",
   "metadata": {},
   "outputs": [
    {
     "data": {
      "text/html": [
       "<table class=\"dataframe\">\n",
       "<caption>A tibble: 1 × 2</caption>\n",
       "<thead>\n",
       "\t<tr><th scope=col>lower_ci</th><th scope=col>upper_ci</th></tr>\n",
       "\t<tr><th scope=col>&lt;dbl&gt;</th><th scope=col>&lt;dbl&gt;</th></tr>\n",
       "</thead>\n",
       "<tbody>\n",
       "\t<tr><td>0.2054117</td><td>0.3281232</td></tr>\n",
       "</tbody>\n",
       "</table>\n"
      ],
      "text/latex": [
       "A tibble: 1 × 2\n",
       "\\begin{tabular}{ll}\n",
       " lower\\_ci & upper\\_ci\\\\\n",
       " <dbl> & <dbl>\\\\\n",
       "\\hline\n",
       "\t 0.2054117 & 0.3281232\\\\\n",
       "\\end{tabular}\n"
      ],
      "text/markdown": [
       "\n",
       "A tibble: 1 × 2\n",
       "\n",
       "| lower_ci &lt;dbl&gt; | upper_ci &lt;dbl&gt; |\n",
       "|---|---|\n",
       "| 0.2054117 | 0.3281232 |\n",
       "\n"
      ],
      "text/plain": [
       "  lower_ci  upper_ci \n",
       "1 0.2054117 0.3281232"
      ]
     },
     "metadata": {},
     "output_type": "display_data"
    }
   ],
   "source": [
    "# Using 95% confidence\n",
    "se_ci <- bootstrap_distribution |> \n",
    "  get_confidence_interval(level = 0.95, type = \"se\", \n",
    "                          point_estimate = obs_diff_prop)\n",
    "se_ci"
   ]
  },
  {
   "cell_type": "markdown",
   "id": "03d0b283",
   "metadata": {},
   "source": [
    "<center>Table 16: Upper and Lower Bounds of 95% Confidence Interval from standard error method"
   ]
  },
  {
   "cell_type": "markdown",
   "id": "523f94e3-c9d0-4a5d-ae03-98e6aee9a3a8",
   "metadata": {},
   "source": [
    "### 3.4. Visualize using Standard Error Method"
   ]
  },
  {
   "cell_type": "markdown",
   "id": "cb0f25d4-af69-4a5c-9f49-d27a52dd3e8d",
   "metadata": {},
   "source": [
    "* Now, let's visualize the bootstrap distribution again using the confidence interval we calculated using the standard error method."
   ]
  },
  {
   "cell_type": "code",
   "execution_count": 24,
   "id": "2e914781-d36a-44c5-bc77-91f2b120d6ee",
   "metadata": {},
   "outputs": [
    {
     "data": {
      "image/png": "[encoded data removed]",
      "text/plain": [
       "plot without title"
      ]
     },
     "metadata": {
      "image/png": {
       "height": 480,
       "width": 600
      }
     },
     "output_type": "display_data"
    }
   ],
   "source": [
    "# Set size of plot\n",
    "options(repr.plot.width=10, repr.plot.height=8)\n",
    "\n",
    "\n",
    "visualize(bootstrap_distribution) +\n",
    "    shade_ci(endpoints = se_ci)"
   ]
  },
  {
   "cell_type": "markdown",
   "id": "70b6b95b",
   "metadata": {},
   "source": [
    "<center>Figure 8: Simulation-Based Bootstrap Distribution using standard error method"
   ]
  },
  {
   "cell_type": "markdown",
   "id": "7f0f62e9-521f-4533-8804-46f57a6c4552",
   "metadata": {},
   "source": [
    "* Again, here we notice that the value 0 is not included in the confidence interval that shows that ${p}_u$ and ${p}_l$ are truly different "
   ]
  },
  {
   "cell_type": "markdown",
   "id": "a1ac2dff-22cf-48f6-bafc-0fb53a948e52",
   "metadata": {},
   "source": [
    "### 3.5. Two-Sample Z-Test : Comparing the proportions of two independent population using asymptotics"
   ]
  },
  {
   "cell_type": "markdown",
   "id": "6d4c6707-c65c-4dec-8da1-df94754d365c",
   "metadata": {},
   "source": [
    "The case to be considered here is: \n",
    "\n",
    "- $H_0: p_u - p_l = 0$ \n",
    "\n",
    "vs \n",
    "\n",
    "- $H_a: p_u - p_l ≠ 0$\n",
    "\n",
    "To test $H_0$, we use the following test statistic:\n",
    "\n",
    "$$\n",
    "Z = \\frac{\\hat{p}_1 - \\hat{p}_2}{\\sqrt{\\hat{p}(1-\\hat{p})\\left(\\frac{1}{n_1} + \\frac{1}{n_2}\\right)}}\n",
    "$$\n",
    "\n",
    "Pooled proportion is given by :\n",
    " $$\\hat{p} = \\frac{n_1\\hat{p}_1+n_2\\hat{p}_2}{n_1+n_2}$$"
   ]
  },
  {
   "cell_type": "code",
   "execution_count": 25,
   "id": "f1e79429-fdc6-4df2-80f6-ebf3683d6248",
   "metadata": {},
   "outputs": [
    {
     "data": {
      "text/html": [
       "<table class=\"dataframe\">\n",
       "<caption>A tibble: 1 × 9</caption>\n",
       "<thead>\n",
       "\t<tr><th scope=col>estimate1</th><th scope=col>estimate2</th><th scope=col>statistic</th><th scope=col>p.value</th><th scope=col>parameter</th><th scope=col>conf.low</th><th scope=col>conf.high</th><th scope=col>method</th><th scope=col>alternative</th></tr>\n",
       "\t<tr><th scope=col>&lt;dbl&gt;</th><th scope=col>&lt;dbl&gt;</th><th scope=col>&lt;dbl&gt;</th><th scope=col>&lt;dbl&gt;</th><th scope=col>&lt;dbl&gt;</th><th scope=col>&lt;dbl&gt;</th><th scope=col>&lt;dbl&gt;</th><th scope=col>&lt;chr&gt;</th><th scope=col>&lt;chr&gt;</th></tr>\n",
       "</thead>\n",
       "<tbody>\n",
       "\t<tr><td>0.5302663</td><td>0.2634989</td><td>65.34202</td><td>6.296427e-16</td><td>1</td><td>0.2041019</td><td>0.329433</td><td>2-sample test for equality of proportions without continuity correction</td><td>two.sided</td></tr>\n",
       "</tbody>\n",
       "</table>\n"
      ],
      "text/latex": [
       "A tibble: 1 × 9\n",
       "\\begin{tabular}{lllllllll}\n",
       " estimate1 & estimate2 & statistic & p.value & parameter & conf.low & conf.high & method & alternative\\\\\n",
       " <dbl> & <dbl> & <dbl> & <dbl> & <dbl> & <dbl> & <dbl> & <chr> & <chr>\\\\\n",
       "\\hline\n",
       "\t 0.5302663 & 0.2634989 & 65.34202 & 6.296427e-16 & 1 & 0.2041019 & 0.329433 & 2-sample test for equality of proportions without continuity correction & two.sided\\\\\n",
       "\\end{tabular}\n"
      ],
      "text/markdown": [
       "\n",
       "A tibble: 1 × 9\n",
       "\n",
       "| estimate1 &lt;dbl&gt; | estimate2 &lt;dbl&gt; | statistic &lt;dbl&gt; | p.value &lt;dbl&gt; | parameter &lt;dbl&gt; | conf.low &lt;dbl&gt; | conf.high &lt;dbl&gt; | method &lt;chr&gt; | alternative &lt;chr&gt; |\n",
       "|---|---|---|---|---|---|---|---|---|\n",
       "| 0.5302663 | 0.2634989 | 65.34202 | 6.296427e-16 | 1 | 0.2041019 | 0.329433 | 2-sample test for equality of proportions without continuity correction | two.sided |\n",
       "\n"
      ],
      "text/plain": [
       "  estimate1 estimate2 statistic p.value      parameter conf.low  conf.high\n",
       "1 0.5302663 0.2634989 65.34202  6.296427e-16 1         0.2041019 0.329433 \n",
       "  method                                                                 \n",
       "1 2-sample test for equality of proportions without continuity correction\n",
       "  alternative\n",
       "1 two.sided  "
      ]
     },
     "metadata": {},
     "output_type": "display_data"
    }
   ],
   "source": [
    "# Create variable for upper class passengers\n",
    "sample_1 <- titanic_tidy |>\n",
    "            filter(Pclass == \"Upper\")\n",
    "\n",
    "# Create variable for lower class passengers\n",
    "sample_2 <- titanic_tidy |>\n",
    "            filter(Pclass == \"Lower\")\n",
    "\n",
    "# Use R's prop.test() function to calculate p-value given by Z-test. Also using broom::tidy() to get an organised result\n",
    "stats <- tidy(prop.test(x = c(sum(sample_1$Survived == \"Alive\"), sum(sample_2$Survived == \"Alive\")), # an array with the number of successes in each sample\n",
    "                  n = c(nrow(sample_1), nrow(sample_2)),\n",
    "                  alternative = \"two.sided\",                                                    # an array with the size of each sample\n",
    "                  correct = FALSE)) \n",
    "stats"
   ]
  },
  {
   "cell_type": "markdown",
   "id": "2ac468c9",
   "metadata": {},
   "source": [
    "<center>Table 17: Results using prop.test() from 2-sample Z-test"
   ]
  },
  {
   "cell_type": "markdown",
   "id": "6e40c54e-6cd1-4b96-bb49-1885ced3b374",
   "metadata": {},
   "source": [
    "* In the code above (**3.5**), we used the prop.test() function in R to calculate the values we need (p-value, conf.low, conf.high) using a 2-sample Z-test for comparing proportions. We also used broom::tidy() to get an organized result \n",
    "* Table 17 gives us our p-value of 6.296427e-16.\n",
    "* This value is much smaller than our significance level $\\alpha$ = 0.05 i.e. 6.296427e-16 < 0.05.\n",
    "* #### *Due to this, we will reject the null hypothesis at a 5% significance level.*"
   ]
  },
  {
   "cell_type": "markdown",
   "id": "0ad4070b-ec69-4de9-9a5e-a62bdc83e4c3",
   "metadata": {},
   "source": [
    "## 4. Discussion"
   ]
  },
  {
   "cell_type": "markdown",
   "id": "08d92c30",
   "metadata": {},
   "source": [
    "### 4.1. Bootstrapping vs Asymptotics"
   ]
  },
  {
   "cell_type": "markdown",
   "id": "a9a8536a",
   "metadata": {},
   "source": [
    "<table>\n",
    "<thead>\n",
    "<tr>\n",
    "<th style=\"empty-cells: hide;border-bottom:hidden;\" colspan=\"1\"></th>\n",
    "<th style=\"border-bottom:hidden;padding-bottom:0; padding-left:3px;padding-right:3px;text-align: left; font-weight: bold; font-style: italic; \" colspan=\"2\"><div style=\"border-bottom: 1px solid #ddd; padding-bottom: 5px; \">Bootstrap</div></th>\n",
    "<th style=\"border-bottom:hidden;padding-bottom:0; padding-left:3px;padding-right:3px;text-align: center; font-weight: bold; font-style: italic; \" colspan=\"2\"><div style=\"border-bottom: 1px solid #ddd; padding-bottom: 5px; \">Asymptotic</div></th>\n",
    "</tr>     \n",
    "  <tr>\n",
    "   <th style=\"text-align:right;\"> Lower C.I. </th>\n",
    "   <th style=\"text-align:right;\"> Upper C.I. </th>\n",
    "   <th style=\"text-align:right;\"> Lower C.I. </th>\n",
    "   <th style=\"text-align:right;\"> Upper C.I. </th>\n",
    "  </tr>\n",
    " </thead>\n",
    "<tbody>\n",
    "  <tr>\n",
    "   <td style=\"text-align:right;\"> 0.2051506 </td>\n",
    "   <td style=\"text-align:right;\"> 0.3286404 </td>\n",
    "   <td style=\"text-align:right;\"> 0.2041019 </td>\n",
    "   <td style=\"text-align:right;\"> 0.329433 </td>\n",
    "  </tr>\n",
    "</tbody>\n",
    "</table>\n",
    "&nbsp;<center>Table 18: Comparing Confidence interval from Bootstrapping and Asympotic Method (Two-sample Z-test)</center>"
   ]
  },
  {
   "cell_type": "markdown",
   "id": "48513f04-84ef-432b-8097-e7da7f180b03",
   "metadata": {},
   "source": [
    "From our preliminary analyses, we expected to find a difference in survival between passengers in upper vs lower class. We tested our hypothesis using both bootstrapping and asymptotic methods. For the asymptotic method, we chose to use a Z-test instead of a t-test as we are calculating proportions. Additionlly, the t-test relies on the assumption that the data is normally distributed which is not the case here since the randam variable is discrete (0-1).\n",
    "\n",
    "Looking at our results using bootstrapping and asymptotics from **3.1** and **3.5** respectively, both methods reported similar p-values. Both methods produced significant results under our significance level of 𝛼 = 0.05. Additionally, the 95% confidence intervals produced by bootstrapping and asymptotics were nearly identical with the true difference in proportions lying between [20.5%, 32.9%] and [20.4%, 32.9%] respectively. \n",
    "\n",
    "In general, bootstrapping methods are advantageous as they can be used to obtain a sampling distribution of the statistic that would be otherwise unknown with theory based approaches. It does not rely on the assumption of normality and thus can be more beneficial with smaller sample sizes. However, we are able to use asymptotics (Z-test) as we have a large enough sample size (np̂ ≥ 10) and n(1 - p̂) ≥ 10 so that the null model is a fairly good approximation when relying on the CLT."
   ]
  },
  {
   "cell_type": "markdown",
   "id": "d9d556a1",
   "metadata": {},
   "source": [
    "### 4.2. Conclusion"
   ]
  },
  {
   "cell_type": "markdown",
   "id": "0a36afef-d985-4a28-a73c-3fb014957de6",
   "metadata": {},
   "source": [
    "We observed that our p-value obtained from bootstrapping was p < 0.001 while with asymptotics (two-sample Z-test) was 6.296427e-16. At our chosen significance level of $\\alpha$ = 0.05, we can reject the null hypothesis and conclude that there may have been a difference between ticket class and survival rate on the Titanic. These findings are important as they can potentially be used in other industries to save lives. For example, regulators may want to eliminate socioeconomic class discrimination on cruise ships and planes by allowing all classes to have equal access to lifesaving emergency equipment. In context, this information would have allowed the Titanic to be better prepared in its emergency practices by positioning lifeboats near all ticket classes instead of only upper classes (Hall, 1986). As such, knowing whether ticket class plays a role in passenger survival will allow us to explore other factors that may influence survival, such as sex or age."
   ]
  },
  {
   "cell_type": "markdown",
   "id": "a6fdf940",
   "metadata": {},
   "source": [
    "### 4.3. Explainations for findings and futher research"
   ]
  },
  {
   "cell_type": "markdown",
   "id": "ba12b793",
   "metadata": {},
   "source": [
    "From external research, it was found that the location of the first-class passengers on the upper deck of the Titanic provided them easier access to lifeboats, and they were given priority to board them (Hall, 1986). However, some men gave up their priority, and women and children from all classes were given priority instead, leading to a higher survival rate for them. This indicates that socioeconomic status alone was not the only factor affecting survival rates (Stolz et al. 2019).\n",
    "\n",
    "The timing of the accident and limited visibility at night were other factors impacting the survival rate. Additionally, physical health played a role, as individuals in better health were more likely to be able to swim, climb, and endure the cold water (Stolz et al. 2019).\n",
    "\n",
    "Although the first-class passengers had advantages, such as access to lifeboats, it is clear that other factors also played a significant role in survival. It is worth considering whether the disaster led to improvements in emergency protocols with regards to class differences and how society can work towards ensuring that all individuals have equal access to life-saving resources in emergency situations."
   ]
  },
  {
   "cell_type": "markdown",
   "id": "1c9fe27c-57dd-4338-a92b-49747df4c01e",
   "metadata": {
    "tags": []
   },
   "source": [
    "## 5. References"
   ]
  },
  {
   "cell_type": "markdown",
   "id": "34621463-077b-45fe-9b57-5878c4b080bf",
   "metadata": {},
   "source": [
    "Titanic Inquiry Project. (1998-2017). *Titanic Inquiry Project*. Retrieved March 18, 2023, from https://www.titanicinquiry.org/.\n",
    "\n",
    "Hall, W. (1986). Social class and survival on the S.S. Titanic. *Social Science & Medicine, 22*(6), 687–690. https://doi.org/10.1016/0277-9536(86)90041-9.\n",
    "\n",
    "Stolz, J., Lindemann, A., & Antonietti, J. (2019). Sociological explanation and mixed methods: the example of the Titanic. *Quality & Quantity, 53*(3), 1623–1643. https://doi.org/10.1007/s11135-018-00830-0.\n",
    "\n",
    "Li, J., Cukierski, W. (2012). Titanic - Machine Learning from Disaster. *Kaggle*. Retrieved March 17, 2023, from https://www.kaggle.com/competitions/titanic/data?select=train.csv.\n",
    "\n",
    "Encyclopedia Titanica. (2017). *Charlotte Wardle Cardeza*. Retrieved April 12, 2023, from https://www.encyclopedia-titanica.org/titanic-survivor/charlotte-cardeza.html.\n",
    "\n",
    "Encyclopedia Titanica. (2023). *Titanic Crew List*. Retrieved April 12, 2023, from https://www.encyclopedia-titanica.org/titanic-crew-list/."
   ]
  }
 ],
 "metadata": {
  "kernelspec": {
   "display_name": "R",
   "language": "R",
   "name": "ir"
  },
  "language_info": {
   "codemirror_mode": "r",
   "file_extension": ".r",
   "mimetype": "text/x-r-source",
   "name": "R",
   "pygments_lexer": "r",
   "version": "4.2.3"
  }
 },
 "nbformat": 4,
 "nbformat_minor": 5
}
